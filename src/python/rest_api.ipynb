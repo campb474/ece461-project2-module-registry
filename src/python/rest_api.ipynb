{
  "cells": [
    {
      "cell_type": "code",
      "execution_count": 24,
      "metadata": {
        "colab": {
          "base_uri": "https://localhost:8080/"
        },
        "id": "-kmPdZCA0uRl",
        "outputId": "1d8ec046-08c4-4cd3-a9f7-b5d6dbb532a4"
      },
      "outputs": [
        {
          "name": "stderr",
          "output_type": "stream",
          "text": [
            "  % Total    % Received % Xferd  Average Speed   Time    Time     Time  Current\n",
            "                                 Dload  Upload   Total   Spent    Left  Speed\n",
            "100 81438  100 81438    0     0   164k      0 --:--:-- --:--:-- --:--:--  170k\n",
            "  % Total    % Received % Xferd  Average Speed   Time    Time     Time  Current\n",
            "                                 Dload  Upload   Total   Spent    Left  Speed\n",
            "100 84424  100 84424    0     0   113k      0 --:--:-- --:--:-- --:--:--  115k\n"
          ]
        },
        {
          "data": {
            "text/plain": [
              "0"
            ]
          },
          "execution_count": 24,
          "metadata": {},
          "output_type": "execute_result"
        }
      ],
      "source": [
        "import os\n",
        "\n",
        "# --header ''Accept: application/vnd.github+json''\n",
        "\n",
        "if os.path.exists('closed.txt'):\n",
        "    os.remove('closed.txt')\n",
        "if os.path.exists('open.txt'):\n",
        "    os.remove('open.txt')\n",
        "os.system('curl -i -H \"Authorization: token \" https://api.github.com/search/issues?q=repo:octocat/Spoon-Knife+type:issue+state:closed >> closed.txt')\n",
        "os.system('curl -i -H \"Authorization: token \" https://api.github.com/search/issues?q=repo:octocat/Spoon-Knife+type:issue+state:open >> open.txt')"
      ]
    }
  ],
  "metadata": {
    "colab": {
      "collapsed_sections": [],
      "provenance": []
    },
    "kernelspec": {
      "display_name": "Python 3",
      "language": "python",
      "name": "python3"
    },
    "language_info": {
      "codemirror_mode": {
        "name": "ipython",
        "version": 3
      },
      "file_extension": ".py",
      "mimetype": "text/x-python",
      "name": "python",
      "nbconvert_exporter": "python",
      "pygments_lexer": "ipython3",
      "version": "3.9.1 (v3.9.1:1e5d33e9b9, Dec  7 2020, 12:10:52) \n[Clang 6.0 (clang-600.0.57)]"
    },
    "vscode": {
      "interpreter": {
        "hash": "aee8b7b246df8f9039afb4144a1f6fd8d2ca17a180786b69acc140d282b71a49"
      }
    }
  },
  "nbformat": 4,
  "nbformat_minor": 0
}
